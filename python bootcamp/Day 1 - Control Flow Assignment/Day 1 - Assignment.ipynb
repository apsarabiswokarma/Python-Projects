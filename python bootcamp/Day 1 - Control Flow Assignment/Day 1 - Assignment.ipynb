{
 "cells": [
  {
   "cell_type": "markdown",
   "id": "46b3428d",
   "metadata": {},
   "source": [
    "## Remember"
   ]
  },
  {
   "cell_type": "markdown",
   "id": "7a7b9891",
   "metadata": {},
   "source": [
    "- Do not edit the function name or any other code or variables outside the predefined block for writing code\n",
    "- Write the code only inside the block replacing the pass statement. \n",
    "```\n",
    "# code starts\n",
    "    pass\n",
    "# code ends\n",
    "```\n",
    "- You may add additional comments for your convenience. But do not replace the existing lines of comments\n",
    "- All the libraries that are necessary for the assignments are already imported\n",
    "- Points will only be awarded if all the test cases are passed\n",
    "\n",
    "\n",
    "***Note: If you think certain test should pass but is constantly failing despite correct code. Try Restarting the Kernal and re-running the code. If it's still not resolved report it to the instructor with appropriate screenshot of the code and the output.***"
   ]
  },
  {
   "cell_type": "code",
   "execution_count": 1,
   "id": "4e520511",
   "metadata": {},
   "outputs": [],
   "source": [
    "from Utils.utils import *"
   ]
  },
  {
   "cell_type": "code",
   "execution_count": 2,
   "id": "80dabf43",
   "metadata": {},
   "outputs": [],
   "source": [
    "score = {}"
   ]
  },
  {
   "cell_type": "markdown",
   "id": "652438d5",
   "metadata": {},
   "source": [
    "___"
   ]
  },
  {
   "cell_type": "markdown",
   "id": "f2047536",
   "metadata": {},
   "source": [
    "***Run the above cells before starting the assignments***"
   ]
  },
  {
   "cell_type": "markdown",
   "id": "6f8dce34",
   "metadata": {},
   "source": [
    "# Assignment Begins"
   ]
  },
  {
   "cell_type": "markdown",
   "id": "1ce89864",
   "metadata": {},
   "source": [
    "#### Q1: Write a program to calculate Simple Interest (SI)\n",
    "\n",
    ">Formula:  $ SI = \\frac{P*T*R}{100} $"
   ]
  },
  {
   "cell_type": "code",
   "execution_count": 3,
   "id": "fd6c8e17",
   "metadata": {},
   "outputs": [],
   "source": [
    "def simple_interest(p, t, r):\n",
    "    \"\"\" calculates simple interest\n",
    "    Args:\n",
    "        p : principle amount in Rs\n",
    "        t : time in year\n",
    "        r : rate in %\n",
    "\n",
    "    Returns:\n",
    "        si : simple interest in Rs\n",
    "    \"\"\"\n",
    "    \n",
    "    # code starts\n",
    "\n",
    "    si = (p*t*r)/100\n",
    "    return si\n",
    "\n",
    "    # code ends"
   ]
  },
  {
   "cell_type": "markdown",
   "id": "70de2e58",
   "metadata": {},
   "source": [
    "*Case : If P = 100, T = 2 and R = 2 then the function should return 4*\n"
   ]
  },
  {
   "cell_type": "code",
   "execution_count": 4,
   "id": "9ddbc1aa",
   "metadata": {},
   "outputs": [
    {
     "data": {
      "text/plain": [
       "4.0"
      ]
     },
     "execution_count": 4,
     "metadata": {},
     "output_type": "execute_result"
    }
   ],
   "source": [
    "# Custom Test - you can test your code here by changing the argument values\n",
    "simple_interest(100,2,2)"
   ]
  },
  {
   "cell_type": "code",
   "execution_count": 5,
   "id": "5b866b45",
   "metadata": {},
   "outputs": [
    {
     "name": "stdout",
     "output_type": "stream",
     "text": [
      " Test 0:\u001b[1;32m Passed \u001b[0;0m\n",
      " Test 1:\u001b[1;32m Passed \u001b[0;0m\n",
      " Test 2:\u001b[1;32m Passed \u001b[0;0m\n",
      " Test 3:\u001b[1;32m Passed \u001b[0;0m\n",
      " Test 4:\u001b[1;32m Passed \u001b[0;0m\n"
     ]
    }
   ],
   "source": [
    "# Automated Test - Do not change it\n",
    "points = test_simple_interest(simple_interest)\n",
    "score[\"Q1\"] = points"
   ]
  },
  {
   "cell_type": "markdown",
   "id": "36580e10",
   "metadata": {},
   "source": [
    " "
   ]
  },
  {
   "cell_type": "markdown",
   "id": "3af73c53",
   "metadata": {},
   "source": [
    "#### Q2: Write a program for finding smallest among three no. using if-else(nested) statement \n"
   ]
  },
  {
   "cell_type": "code",
   "execution_count": 6,
   "id": "e8202efa",
   "metadata": {},
   "outputs": [],
   "source": [
    "def smallest_number(a, b, c):\n",
    "    \"\"\" find the smallest number among given 3 numbers\n",
    "\n",
    "    Args:\n",
    "        a : first number\n",
    "        b : second number\n",
    "        c : third number\n",
    "\n",
    "    Returns:\n",
    "        smallest : smallest number\n",
    "    \"\"\"\n",
    "    \n",
    "    # code starts\n",
    "\n",
    "    if a >= b and c >= b:\n",
    "        return b\n",
    "    elif b >= a and c >= a:\n",
    "        return a\n",
    "    else:\n",
    "        return c\n",
    "\n",
    "    # code ends"
   ]
  },
  {
   "cell_type": "markdown",
   "id": "3d96e5a8",
   "metadata": {},
   "source": [
    "*Case : If a = 10, b = 1 and c = 2 then the function should return 1*\n"
   ]
  },
  {
   "cell_type": "code",
   "execution_count": 7,
   "id": "ea283c34",
   "metadata": {},
   "outputs": [
    {
     "data": {
      "text/plain": [
       "1"
      ]
     },
     "execution_count": 7,
     "metadata": {},
     "output_type": "execute_result"
    }
   ],
   "source": [
    "# Custom Test - you can test your code here by changing the argument values\n",
    "smallest_number(10,1,2)"
   ]
  },
  {
   "cell_type": "code",
   "execution_count": 8,
   "id": "95d3ff6b",
   "metadata": {},
   "outputs": [
    {
     "name": "stdout",
     "output_type": "stream",
     "text": [
      " Test 0:\u001b[1;32m Passed \u001b[0;0m\n",
      " Test 1:\u001b[1;32m Passed \u001b[0;0m\n",
      " Test 2:\u001b[1;32m Passed \u001b[0;0m\n",
      " Test 3:\u001b[1;32m Passed \u001b[0;0m\n",
      " Test 4:\u001b[1;32m Passed \u001b[0;0m\n",
      " Test 5:\u001b[1;32m Passed \u001b[0;0m\n"
     ]
    }
   ],
   "source": [
    "# Automated Test - Do not change it\n",
    "points = test_smallest_number(smallest_number)\n",
    "score[\"Q2\"] = points"
   ]
  },
  {
   "cell_type": "markdown",
   "id": "b838a18b",
   "metadata": {},
   "source": [
    " "
   ]
  },
  {
   "cell_type": "markdown",
   "id": "07a085b5",
   "metadata": {},
   "source": [
    "#### Q3: Write a program to perform simple mathematical operation using match statement \n"
   ]
  },
  {
   "cell_type": "code",
   "execution_count": 9,
   "id": "9d5640dc",
   "metadata": {},
   "outputs": [],
   "source": [
    "def math_operation(a, b, operator):\n",
    "    \"\"\" performs a mathematical operation for the given 2 numbers based on the operator\n",
    "\n",
    "    Args:\n",
    "        a : first number\n",
    "        b : second number\n",
    "        operator : mathematical sign for operation (+,-,*,/) only \n",
    "\n",
    "    Returns:\n",
    "        result: if b == 0 return \"Divide by zero\" in case of division operation,\n",
    "                if invalid operator return \"invalid operator\"\n",
    "                else return the result of the operation\n",
    "    \"\"\"\n",
    "    # code starts\n",
    "    \n",
    "    if operator == '+':\n",
    "        return a + b\n",
    "    elif operator == '-':\n",
    "        return a - b\n",
    "    elif operator == '*':\n",
    "        return a * b\n",
    "    elif operator == '/':\n",
    "        if b == 0:\n",
    "            return \"Divide by zero\"\n",
    "        return a / b\n",
    "    else:\n",
    "        return \"invalid operator\"\n",
    "\n",
    "    # code ends"
   ]
  },
  {
   "cell_type": "markdown",
   "id": "7c6d716c",
   "metadata": {},
   "source": [
    "*Case : If a = 1, b = 7 and operator = \"-\" then the function should return -6*\n"
   ]
  },
  {
   "cell_type": "code",
   "execution_count": 10,
   "id": "1752164c",
   "metadata": {},
   "outputs": [
    {
     "data": {
      "text/plain": [
       "-6"
      ]
     },
     "execution_count": 10,
     "metadata": {},
     "output_type": "execute_result"
    }
   ],
   "source": [
    "# Custom Test - you can test your code here by changing the argument values\n",
    "math_operation(1, 7, \"-\")"
   ]
  },
  {
   "cell_type": "code",
   "execution_count": 11,
   "id": "1f602ad2",
   "metadata": {},
   "outputs": [
    {
     "name": "stdout",
     "output_type": "stream",
     "text": [
      " Test 0:\u001b[1;32m Passed \u001b[0;0m\n",
      " Test 1:\u001b[1;32m Passed \u001b[0;0m\n",
      " Test 2:\u001b[1;32m Passed \u001b[0;0m\n",
      " Test 3:\u001b[1;32m Passed \u001b[0;0m\n",
      " Test 4:\u001b[1;32m Passed \u001b[0;0m\n",
      " Test 5:\u001b[1;32m Passed \u001b[0;0m\n",
      " Test 6:\u001b[1;32m Passed \u001b[0;0m\n",
      " Test 7:\u001b[1;32m Passed \u001b[0;0m\n"
     ]
    }
   ],
   "source": [
    "# Automated Test - Do not change it\n",
    "points =  test_math_operation(math_operation)\n",
    "score[\"Q3\"] = points"
   ]
  },
  {
   "cell_type": "markdown",
   "id": "eb8fd06a",
   "metadata": {},
   "source": [
    " "
   ]
  },
  {
   "cell_type": "markdown",
   "id": "e6e99d67",
   "metadata": {},
   "source": [
    "#### Q4: Write a program to display factorial of  a number using for loop\n"
   ]
  },
  {
   "cell_type": "code",
   "execution_count": 12,
   "id": "92c8cb01",
   "metadata": {},
   "outputs": [],
   "source": [
    "def factorial(n):\n",
    "    \"\"\" compute factorial of given number n\n",
    "\n",
    "    Args:\n",
    "        n : given number\n",
    "\n",
    "    Returns:\n",
    "        fact: factorial of number n or  return \"number too large\" for any number larger than 25 \n",
    "\n",
    "    \"\"\"\n",
    "\n",
    "    # code starts\n",
    "    if n > 25:\n",
    "        return \"number too large\"\n",
    "    \n",
    "    fact = 1\n",
    "    # for i = n; i >= 1; n--\n",
    "    for i in range(n,1,-1):\n",
    "        fact = fact * i\n",
    "    return fact\n",
    "\n",
    "    # code ends"
   ]
  },
  {
   "cell_type": "markdown",
   "id": "188687c8",
   "metadata": {},
   "source": [
    "*Case : If n = 5 then the function should return 120*\n"
   ]
  },
  {
   "cell_type": "code",
   "execution_count": 13,
   "id": "7d9e9dba",
   "metadata": {},
   "outputs": [
    {
     "data": {
      "text/plain": [
       "'number too large'"
      ]
     },
     "execution_count": 13,
     "metadata": {},
     "output_type": "execute_result"
    }
   ],
   "source": [
    "# Custom Test - you can test your code here by changing the argument values\n",
    "factorial(26)"
   ]
  },
  {
   "cell_type": "code",
   "execution_count": 14,
   "id": "5981e955",
   "metadata": {
    "scrolled": true
   },
   "outputs": [
    {
     "name": "stdout",
     "output_type": "stream",
     "text": [
      " Test 0:\u001b[1;32m Passed \u001b[0;0m\n",
      " Test 1:\u001b[1;32m Passed \u001b[0;0m\n",
      " Test 2:\u001b[1;32m Passed \u001b[0;0m\n",
      " Test 3:\u001b[1;32m Passed \u001b[0;0m\n",
      " Test 4:\u001b[1;32m Passed \u001b[0;0m\n",
      " Test 5:\u001b[1;32m Passed \u001b[0;0m\n",
      " Test 6:\u001b[1;32m Passed \u001b[0;0m\n"
     ]
    }
   ],
   "source": [
    "# Automated Test - Do not change it\n",
    "points =  test_factorial(factorial)\n",
    "score[\"Q4\"] = points"
   ]
  },
  {
   "cell_type": "markdown",
   "id": "4b0ffb7d",
   "metadata": {},
   "source": [
    " "
   ]
  },
  {
   "cell_type": "markdown",
   "id": "6cd817d2",
   "metadata": {},
   "source": [
    "#### Q5: Write a program to find  a nth number in the fibonacci sequence\n"
   ]
  },
  {
   "cell_type": "code",
   "execution_count": 15,
   "id": "d5b44f75",
   "metadata": {},
   "outputs": [],
   "source": [
    "def fibonacci(n):\n",
    "    \"\"\" find a nth number in the fibonacci sequence\n",
    "\n",
    "    Args:\n",
    "        n : given number\n",
    "\n",
    "    Returns:\n",
    "        fibo: nth number in a fibonacci sequence\n",
    "\n",
    "    \"\"\"\n",
    "    \n",
    "    # code starts\n",
    "\n",
    "    # using recursion\n",
    "    if n <= 1:\n",
    "        return n\n",
    "    return fibonacci(n-1) + fibonacci(n-2)\n",
    "\n",
    "    # code ends"
   ]
  },
  {
   "cell_type": "markdown",
   "id": "12052652",
   "metadata": {},
   "source": [
    "*Case : If n = 6 then the function should return 8*\n"
   ]
  },
  {
   "cell_type": "code",
   "execution_count": 16,
   "id": "f4ab1390",
   "metadata": {},
   "outputs": [
    {
     "data": {
      "text/plain": [
       "8"
      ]
     },
     "execution_count": 16,
     "metadata": {},
     "output_type": "execute_result"
    }
   ],
   "source": [
    "# Custom Test - you can test your code here by changing the argument values\n",
    "fibonacci(6)"
   ]
  },
  {
   "cell_type": "code",
   "execution_count": 17,
   "id": "3cfb7571",
   "metadata": {},
   "outputs": [
    {
     "name": "stdout",
     "output_type": "stream",
     "text": [
      " Test 0:\u001b[1;32m Passed \u001b[0;0m\n",
      " Test 1:\u001b[1;32m Passed \u001b[0;0m\n",
      " Test 2:\u001b[1;32m Passed \u001b[0;0m\n",
      " Test 3:\u001b[1;32m Passed \u001b[0;0m\n",
      " Test 4:\u001b[1;32m Passed \u001b[0;0m\n",
      " Test 5:\u001b[1;32m Passed \u001b[0;0m\n",
      " Test 6:\u001b[1;32m Passed \u001b[0;0m\n",
      " Test 7:\u001b[1;32m Passed \u001b[0;0m\n",
      " Test 8:\u001b[1;32m Passed \u001b[0;0m\n",
      " Test 9:\u001b[1;32m Passed \u001b[0;0m\n"
     ]
    }
   ],
   "source": [
    "# Automated Test - Do not change it\n",
    "points =  test_fibonacci(fibonacci)\n",
    "score[\"Q5\"] = points"
   ]
  },
  {
   "cell_type": "markdown",
   "id": "d1dd9d08",
   "metadata": {},
   "source": [
    "## Assignment Ends"
   ]
  },
  {
   "cell_type": "markdown",
   "id": "d9da1725",
   "metadata": {},
   "source": [
    "---"
   ]
  },
  {
   "cell_type": "code",
   "execution_count": 18,
   "id": "270de491",
   "metadata": {
    "scrolled": true
   },
   "outputs": [
    {
     "name": "stdout",
     "output_type": "stream",
     "text": [
      "Total Score: \u001b[1;34m5\u001b[0;0m\n",
      "Obtained Socre: \u001b[1;32m 5 \u001b[0;0m\n"
     ]
    }
   ],
   "source": [
    "final_score(score)"
   ]
  },
  {
   "cell_type": "code",
   "execution_count": 20,
   "id": "b36286f7",
   "metadata": {},
   "outputs": [
    {
     "name": "stderr",
     "output_type": "stream",
     "text": [
      "[NbConvertApp] Converting notebook Day 1 - Assignment.ipynb to html\n",
      "[NbConvertApp] Writing 614713 bytes to Day 1 - Assignment.html\n"
     ]
    }
   ],
   "source": [
    "!jupyter-nbconvert --to html \"Day 1 - Assignment.ipynb\" --output \"Day 1 - Assignment.html\" "
   ]
  },
  {
   "cell_type": "code",
   "execution_count": null,
   "id": "2d6e2acf",
   "metadata": {},
   "outputs": [],
   "source": []
  }
 ],
 "metadata": {
  "kernelspec": {
   "display_name": "Python 3.10.6 64-bit",
   "language": "python",
   "name": "python3"
  },
  "language_info": {
   "codemirror_mode": {
    "name": "ipython",
    "version": 3
   },
   "file_extension": ".py",
   "mimetype": "text/x-python",
   "name": "python",
   "nbconvert_exporter": "python",
   "pygments_lexer": "ipython3",
   "version": "3.10.6"
  },
  "vscode": {
   "interpreter": {
    "hash": "afb734500600fd355917ca529030176ea0ca205570884b88f2f6f7d791fd3fbe"
   }
  }
 },
 "nbformat": 4,
 "nbformat_minor": 5
}
